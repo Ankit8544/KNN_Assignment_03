{
 "cells": [
  {
   "cell_type": "markdown",
   "metadata": {},
   "source": [
    "# **$$        Load\\ Iris\\ Dataset$$**"
   ]
  },
  {
   "cell_type": "code",
   "execution_count": 51,
   "metadata": {},
   "outputs": [],
   "source": [
    "from sklearn.datasets import load_iris\n",
    "from sklearn.model_selection import train_test_split\n",
    "from sklearn.neighbors import KNeighborsClassifier\n",
    "from sklearn.metrics import accuracy_score\n",
    "from sklearn.model_selection import cross_val_score\n",
    "import numpy as np\n",
    "from sklearn.preprocessing import StandardScaler\n",
    "\n",
    "# Load dataset\n",
    "iris = load_iris()\n",
    "X = iris.data\n",
    "y = iris.target\n",
    "\n",
    "# Split dataset into training and testing sets\n",
    "X_train, X_test, y_train, y_test = train_test_split(X, y, test_size=0.2, random_state=42)"
   ]
  },
  {
   "cell_type": "markdown",
   "metadata": {},
   "source": [
    "### **$$Assignment\\ Question\\ :-$$**"
   ]
  },
  {
   "cell_type": "markdown",
   "metadata": {},
   "source": [
    "**`Q.No-01`    Write a Python code to implement the KNN classifier algorithm on load_iris dataset in sklearn.datasets.**"
   ]
  },
  {
   "cell_type": "markdown",
   "metadata": {},
   "source": [
    "**`Q.No-03`    Write a Python code snippet to find the optimal value of K for the KNN classifier algorithm using cross-validation on load_iris dataset in sklearn.datasets.**"
   ]
  },
  {
   "cell_type": "markdown",
   "metadata": {},
   "source": [
    "**`Q.No-05`    Write a Python code snippet to implement the KNN classifier algorithm with weighted voting on load_iris dataset in sklearn.datasets.**"
   ]
  },
  {
   "cell_type": "markdown",
   "metadata": {},
   "source": [
    "**`Q.No-06`    Implement a function to standardise the features before applying KNN classifier.**"
   ]
  },
  {
   "cell_type": "markdown",
   "metadata": {},
   "source": [
    "**`Q.No-07`    Write a Python function to calculate the euclidean distance between two points.**"
   ]
  },
  {
   "cell_type": "markdown",
   "metadata": {},
   "source": [
    "**`Q.No-08`    Write a Python function to calculate the manhattan distance between two points.**"
   ]
  },
  {
   "cell_type": "markdown",
   "metadata": {},
   "source": [
    "**Ans :-**"
   ]
  },
  {
   "cell_type": "markdown",
   "metadata": {},
   "source": [
    "**`Standardize features before applying KNN classifier`:**"
   ]
  },
  {
   "cell_type": "code",
   "execution_count": 52,
   "metadata": {},
   "outputs": [],
   "source": [
    "scaler = StandardScaler()\n",
    "\n",
    "X_train_standardized = scaler.fit_transform(X_train)\n",
    "X_test_standardized = scaler.fit_transform(X_test)"
   ]
  },
  {
   "cell_type": "markdown",
   "metadata": {},
   "source": [
    "**`Implementing KNN classifier algorithm on load_iris dataset` :**"
   ]
  },
  {
   "cell_type": "code",
   "execution_count": 53,
   "metadata": {},
   "outputs": [
    {
     "name": "stdout",
     "output_type": "stream",
     "text": [
      "Accuracy: 0.9666666666666667\n"
     ]
    }
   ],
   "source": [
    "# Initialize and train KNN classifier\n",
    "knn = KNeighborsClassifier(n_neighbors=3,algorithm='auto')\n",
    "knn.fit(X_train_standardized, y_train)\n",
    "\n",
    "# Predict\n",
    "y_pred = knn.predict(X_test_standardized)\n",
    "\n",
    "# Calculate accuracy\n",
    "accuracy = accuracy_score(y_test, y_pred)\n",
    "print(\"Accuracy:\", accuracy)"
   ]
  },
  {
   "cell_type": "markdown",
   "metadata": {},
   "source": [
    "**`Finding the optimal value of K for KNN classifier using cross-validation` :**"
   ]
  },
  {
   "cell_type": "code",
   "execution_count": 54,
   "metadata": {},
   "outputs": [
    {
     "name": "stdout",
     "output_type": "stream",
     "text": [
      "Optimal K: 3\n"
     ]
    }
   ],
   "source": [
    "# Initialize KNN classifier\n",
    "knn = KNeighborsClassifier()\n",
    "\n",
    "# Perform cross-validation to find optimal K using standardized features\n",
    "cv_scores = []\n",
    "for k in range(1, 21):\n",
    "    knn.n_neighbors = k\n",
    "    scores = cross_val_score(knn, X_train_standardized, y_train, cv=5, scoring='accuracy')\n",
    "    cv_scores.append(scores.mean())\n",
    "\n",
    "# Find optimal K\n",
    "optimal_k = cv_scores.index(max(cv_scores)) + 1\n",
    "print(\"Optimal K:\", optimal_k) "
   ]
  },
  {
   "cell_type": "markdown",
   "metadata": {},
   "source": [
    "**`Implementing KNN classifier algorithm with weighted voting` :**"
   ]
  },
  {
   "cell_type": "code",
   "execution_count": 55,
   "metadata": {},
   "outputs": [
    {
     "name": "stdout",
     "output_type": "stream",
     "text": [
      "Accuracy: 0.9666666666666667\n"
     ]
    }
   ],
   "source": [
    "# Initialize and train weighted KNN classifier\n",
    "knn = KNeighborsClassifier(n_neighbors=3, weights='distance')\n",
    "knn.fit(X_train_standardized, y_train)\n",
    "\n",
    "# Predict\n",
    "y_pred = knn.predict(X_test_standardized)\n",
    "\n",
    "# Calculate accuracy\n",
    "accuracy = accuracy_score(y_test, y_pred)\n",
    "print(\"Accuracy:\", accuracy)"
   ]
  },
  {
   "cell_type": "markdown",
   "metadata": {},
   "source": [
    "**`Calculate Euclidean distance between two points` :**"
   ]
  },
  {
   "cell_type": "code",
   "execution_count": 56,
   "metadata": {},
   "outputs": [
    {
     "name": "stdout",
     "output_type": "stream",
     "text": [
      "Euclidean distance between point1 and point2: 2.2695383516081153\n"
     ]
    }
   ],
   "source": [
    "point1 = X_train_standardized[0]  # Taking the first data point from the standardized training set\n",
    "point2 = X_train_standardized[1]  # Taking the second data point from the standardized training set\n",
    "distance = np.sqrt(np.sum((point1 - point2)**2))\n",
    "print(\"Euclidean distance between point1 and point2:\", distance)"
   ]
  },
  {
   "cell_type": "markdown",
   "metadata": {},
   "source": [
    "**`Calculate Manhattan distance between two points` :**"
   ]
  },
  {
   "cell_type": "code",
   "execution_count": 57,
   "metadata": {},
   "outputs": [
    {
     "name": "stdout",
     "output_type": "stream",
     "text": [
      "Manhattan distance between point1 and point2: 3.6830821858789986\n"
     ]
    }
   ],
   "source": [
    "point1 = X_train_standardized[0] # Taking the first data point from the standardized training set\n",
    "point2 = X_train_standardized[1] # Taking the second data point from the standardized training set\n",
    "distance = np.sum(np.abs(point1 - point2))\n",
    "print(\"Manhattan distance between point1 and point2:\", distance)"
   ]
  },
  {
   "cell_type": "markdown",
   "metadata": {},
   "source": [
    "-----------------------------------------------------------------------------------------------------------------------------------------------------------------------"
   ]
  },
  {
   "cell_type": "markdown",
   "metadata": {},
   "source": [
    "# **$$        Load\\ Boston\\ Dataset$$**"
   ]
  },
  {
   "cell_type": "code",
   "execution_count": 58,
   "metadata": {},
   "outputs": [],
   "source": [
    "from sklearn.datasets import fetch_openml\n",
    "from sklearn.model_selection import train_test_split\n",
    "from sklearn.neighbors import KNeighborsRegressor\n",
    "from sklearn.metrics import mean_squared_error\n",
    "from sklearn.preprocessing import StandardScaler\n",
    "import numpy as np\n",
    "import warnings\n",
    "warnings.filterwarnings(\"ignore\")\n",
    "\n",
    "# Load the dataset\n",
    "boston = fetch_openml(name='boston', version=1)\n",
    "X = boston.data\n",
    "y = boston.target\n",
    "\n",
    "# Splitting the dataset into train and test sets\n",
    "X_train, X_test, y_train, y_test = train_test_split(X, y, test_size=0.2, random_state=42)"
   ]
  },
  {
   "cell_type": "markdown",
   "metadata": {},
   "source": [
    "### **$$Assignment\\ Question\\ :-$$**"
   ]
  },
  {
   "cell_type": "markdown",
   "metadata": {},
   "source": [
    "**`Q.No-02`    Write a Python code to implement the KNN regressor algorithm on load_boston dataset in sklearn.datasets.**"
   ]
  },
  {
   "cell_type": "markdown",
   "metadata": {},
   "source": [
    "**`Q.No-04`    Implement the KNN regressor algorithm with feature scaling on load_boston dataset in sklearn.datasets.**"
   ]
  },
  {
   "cell_type": "markdown",
   "metadata": {},
   "source": [
    "**`Q.No-07`    Write a Python function to calculate the euclidean distance between two points.**"
   ]
  },
  {
   "cell_type": "markdown",
   "metadata": {},
   "source": [
    "**`Q.No-08`    Write a Python function to calculate the manhattan distance between two points.**"
   ]
  },
  {
   "cell_type": "markdown",
   "metadata": {},
   "source": [
    "**Ans :-**"
   ]
  },
  {
   "cell_type": "markdown",
   "metadata": {},
   "source": [
    "**`KNN regressor algorithm on load_boston dataset` :**"
   ]
  },
  {
   "cell_type": "code",
   "execution_count": 59,
   "metadata": {},
   "outputs": [
    {
     "name": "stdout",
     "output_type": "stream",
     "text": [
      "Mean Squared Error: 25.860125490196076\n"
     ]
    }
   ],
   "source": [
    "# Implementing KNN regressor\n",
    "knn_regressor = KNeighborsRegressor()\n",
    "knn_regressor.fit(X_train, y_train)\n",
    "\n",
    "# Predictions\n",
    "y_pred = knn_regressor.predict(X_test)\n",
    "\n",
    "# Calculating mean squared error\n",
    "mse = mean_squared_error(y_test, y_pred)\n",
    "print(\"Mean Squared Error:\", mse)"
   ]
  },
  {
   "cell_type": "markdown",
   "metadata": {},
   "source": [
    "**`KNN regressor algorithm with feature scaling on load_boston dataset` :**"
   ]
  },
  {
   "cell_type": "code",
   "execution_count": 60,
   "metadata": {},
   "outputs": [
    {
     "name": "stdout",
     "output_type": "stream",
     "text": [
      "Mean Squared Error with Feature Scaling: 20.60552941176471\n"
     ]
    }
   ],
   "source": [
    "# Feature scaling\n",
    "scaler = StandardScaler()\n",
    "X_train_scaled = scaler.fit_transform(X_train)\n",
    "X_test_scaled = scaler.transform(X_test)\n",
    "\n",
    "# Implementing KNN regressor with scaled features\n",
    "knn_regressor_scaled = KNeighborsRegressor()\n",
    "knn_regressor_scaled.fit(X_train_scaled, y_train)\n",
    "\n",
    "# Predictions\n",
    "y_pred_scaled = knn_regressor_scaled.predict(X_test_scaled)\n",
    "\n",
    "# Calculating mean squared error\n",
    "mse_scaled = mean_squared_error(y_test, y_pred_scaled)\n",
    "print(\"Mean Squared Error with Feature Scaling:\", mse_scaled)"
   ]
  },
  {
   "cell_type": "markdown",
   "metadata": {},
   "source": [
    "**`Calculate the Euclidean distance between two points` :**"
   ]
  },
  {
   "cell_type": "code",
   "execution_count": 61,
   "metadata": {},
   "outputs": [
    {
     "name": "stdout",
     "output_type": "stream",
     "text": [
      "Euclidean distance between point1 and point2: 4.829625313958971\n"
     ]
    }
   ],
   "source": [
    "point1 = X_test_scaled[0] # Taking the first data point from the Scaled training set\n",
    "point2 = X_test_scaled[1] # Taking the second data point from the Scaled training set\n",
    "distance = np.sqrt(np.sum((point1 - point2) ** 2))\n",
    "print(\"Euclidean distance between point1 and point2:\", distance)"
   ]
  },
  {
   "cell_type": "markdown",
   "metadata": {},
   "source": [
    "**`calculate the Manhattan distance between two points` :**"
   ]
  },
  {
   "cell_type": "code",
   "execution_count": 62,
   "metadata": {},
   "outputs": [
    {
     "name": "stdout",
     "output_type": "stream",
     "text": [
      "Manhattan distance between point1 and point2: 14.723918354812817\n"
     ]
    }
   ],
   "source": [
    "point1 = X_train_scaled[0] # Taking the first data point from the Scaled training set\n",
    "point2 = X_train_scaled[1] # Taking the second data point from the Scaled training set\n",
    "distance = np.sum(np.abs(point1 - point2))\n",
    "print(\"Manhattan distance between point1 and point2:\", distance)"
   ]
  }
 ],
 "metadata": {
  "kernelspec": {
   "display_name": "Python 3",
   "language": "python",
   "name": "python3"
  },
  "language_info": {
   "codemirror_mode": {
    "name": "ipython",
    "version": 3
   },
   "file_extension": ".py",
   "mimetype": "text/x-python",
   "name": "python",
   "nbconvert_exporter": "python",
   "pygments_lexer": "ipython3",
   "version": "3.9.13"
  }
 },
 "nbformat": 4,
 "nbformat_minor": 2
}
